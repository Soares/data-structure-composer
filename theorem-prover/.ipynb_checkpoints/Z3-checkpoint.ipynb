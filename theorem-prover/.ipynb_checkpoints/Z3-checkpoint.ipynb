{
 "cells": [
  {
   "cell_type": "code",
   "execution_count": 5,
   "metadata": {
    "collapsed": false,
    "deletable": true,
    "editable": true
   },
   "outputs": [
    {
     "name": "stdout",
     "output_type": "stream",
     "text": [
      "[get_first <= 0,\n",
      " get_next <= 0,\n",
      " get_by_index <=\n",
      " If(get_next + 1 > get_first, get_next + 1, get_first)]\n"
     ]
    },
    {
     "data": {
      "text/plain": [
       "[get_next = 0, get_first = 0, get_by_index = 1]"
      ]
     },
     "execution_count": 5,
     "metadata": {},
     "output_type": "execute_result"
    }
   ],
   "source": [
    "from z3 import *\n",
    "\n",
    "\n",
    "class Z3Helper:\n",
    "    @staticmethod\n",
    "    def enumerate_type_completely(type, options):\n",
    "        thing = Const(\"thing-of-type-\" + str(type), type)\n",
    "        return And(\n",
    "            ForAll([thing], Or(*[thing == option for option in options])),\n",
    "            Distinct(options)\n",
    "        )\n",
    "\n",
    "    @staticmethod\n",
    "    def myforall(types, claim):\n",
    "        args = claim.__code__.co_varnames\n",
    "        assert len(types) == len(args)\n",
    "        arg_vars = [Const(arg, type) for (arg, type) in zip(args, types)]\n",
    "        return ForAll(arg_vars, claim(*arg_vars))\n",
    "\n",
    "    @staticmethod\n",
    "    def myexists(types, claim):\n",
    "        args = claim.__code__.co_varnames\n",
    "        assert len(types) == len(args)\n",
    "        arg_vars = [Const(arg, type) for (arg, type) in zip(args, types)]\n",
    "        return Exists(arg_vars, claim(*arg_vars))\n",
    "    @staticmethod\n",
    "    def max(x, y):\n",
    "         return If(x > y, x, y)\n",
    "\n",
    "BigO = DeclareSort('BigO')\n",
    "    \n",
    "get_first = Const(\"get_first\", IntSort())\n",
    "get_next = Const(\"get_next\", IntSort())\n",
    "get_by_index = Const(\"get_by_index\", IntSort())\n",
    "\n",
    "def add_big_o(a, b):\n",
    "    return Z3Helper.max(a, b)\n",
    "\n",
    "def multiply_big_o(a, b):\n",
    "    return a + b\n",
    "\n",
    "\n",
    "\n",
    "set_param(proof=True)\n",
    "solver = Solver()\n",
    "solver.add(get_first <= 0)\n",
    "solver.add(get_next <= 0)\n",
    "solver.add(get_by_index <= add_big_o(multiply_big_o(get_next, 1), get_first))\n",
    "\n",
    "print solver\n",
    "\n",
    "solver.check()\n",
    "solver.model()"
   ]
  },
  {
   "cell_type": "code",
   "execution_count": 7,
   "metadata": {
    "collapsed": false,
    "deletable": true,
    "editable": true
   },
   "outputs": [
    {
     "ename": "IndentationError",
     "evalue": "expected an indented block (<ipython-input-7-f98c707b7a1d>, line 8)",
     "output_type": "error",
     "traceback": [
      "\u001b[0;36m  File \u001b[0;32m\"<ipython-input-7-f98c707b7a1d>\"\u001b[0;36m, line \u001b[0;32m8\u001b[0m\n\u001b[0;31m    print mx.value(), my.value()\u001b[0m\n\u001b[0m        ^\u001b[0m\n\u001b[0;31mIndentationError\u001b[0m\u001b[0;31m:\u001b[0m expected an indented block\n"
     ]
    }
   ],
   "source": [
    "x, y = Ints('x y')\n",
    "opt = Optimize()\n",
    "opt.set(priority='pareto')\n",
    "opt.add(x + y == 10, x >= 0, y >= 0)\n",
    "mx = opt.maximize(x)\n",
    "my = opt.maximize(y)\n",
    "while opt.check() == sat:\n",
    "    print mx.value(), my.value()"
   ]
  },
  {
   "cell_type": "code",
   "execution_count": null,
   "metadata": {
    "collapsed": true
   },
   "outputs": [],
   "source": []
  }
 ],
 "metadata": {
  "kernelspec": {
   "display_name": "Python 2",
   "language": "python",
   "name": "python2"
  },
  "language_info": {
   "codemirror_mode": {
    "name": "ipython",
    "version": 2
   },
   "file_extension": ".py",
   "mimetype": "text/x-python",
   "name": "python",
   "nbconvert_exporter": "python",
   "pygments_lexer": "ipython2",
   "version": "2.7.13"
  }
 },
 "nbformat": 4,
 "nbformat_minor": 2
}
